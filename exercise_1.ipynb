{
 "cells": [
  {
   "cell_type": "code",
   "execution_count": null,
   "metadata": {},
   "outputs": [],
   "source": [
    "def login(input_username, input_password):\n",
    "    # login username and password\n",
    "    username = \"admin\"\n",
    "    password = \"admin\"\n",
    "\n",
    "    # check if input_username & input_password is equal with username & password\n",
    "    # - if login details is invalid, print invalid login details\n",
    "    print('TODO: IMPLEMENT ME')"
   ]
  },
  {
   "cell_type": "code",
   "execution_count": null,
   "metadata": {},
   "outputs": [],
   "source": [
    "# simulate a database with a list\n",
    "products = [{\"id\": 1, \"name\": \"apple\"}, {\"id\": 2, \"name\": \"banana\"}]\n",
    "curr_id = 2"
   ]
  },
  {
   "cell_type": "code",
   "execution_count": null,
   "metadata": {},
   "outputs": [],
   "source": [
    "def view_products():\n",
    "    # will show all products data (id & name)\n",
    "    # - if length of product data == 0, print empty data\n",
    "    print('TODO: IMPLEMENT ME')"
   ]
  },
  {
   "cell_type": "code",
   "execution_count": null,
   "metadata": {},
   "outputs": [],
   "source": [
    "def create_product(new_product_name):\n",
    "    # will create new product (the product id is increment value from curr_id)\n",
    "    # - if new_product_name is empty, print error empty new product name\n",
    "    print('TODO: IMPLEMENT ME')"
   ]
  },
  {
   "cell_type": "code",
   "execution_count": null,
   "metadata": {},
   "outputs": [],
   "source": [
    "def update_product(product_id, new_product_name):\n",
    "    # will update existing product\n",
    "    # - if product_id is empty, print empty product id\n",
    "    # - if new_product_name is empty, print empty new product name\n",
    "    print('TODO: IMPLEMENT ME')"
   ]
  },
  {
   "cell_type": "code",
   "execution_count": null,
   "metadata": {},
   "outputs": [],
   "source": [
    "def delete_product(product_id):\n",
    "    # will delete existing product\n",
    "    # - if product_id is empty, print empty product id\n",
    "    print('TODO: IMPLEMENT ME')"
   ]
  },
  {
   "cell_type": "code",
   "execution_count": null,
   "metadata": {},
   "outputs": [],
   "source": [
    "def view_product_by_id(product_id):\n",
    "    # will view existing product by id\n",
    "    # - if product_id is empty, print empty product id\n",
    "    # - if product_id is invalid, print invalid product id\n",
    "    print('TODO: IMPLEMENT ME')"
   ]
  },
  {
   "cell_type": "code",
   "execution_count": 1,
   "metadata": {},
   "outputs": [],
   "source": [
    "def main():\n",
    "    # prompt the user to enter their login details\n",
    "    input_username = input(\"Username: \")\n",
    "    input_password = input(\"Password: \")\n",
    "\n",
    "    # do login\n",
    "    if login(input_username, input_password):\n",
    "        print(\"Login successful!\")\n",
    "        while True:\n",
    "            print(\"Menu:\")\n",
    "            print(\"1. View products\")\n",
    "            print(\"2. Create product\")\n",
    "            print(\"3. Update product\")\n",
    "            print(\"4. Delete product\")\n",
    "            print(\"5. Get product by ID\")\n",
    "            print(\"6. Exit\")\n",
    "            \n",
    "            # get user input for menu selection\n",
    "            choice = int(input(\"Enter your choice (1-6): \"))\n",
    "            \n",
    "            # view products\n",
    "            if choice == 1:\n",
    "                view_products()\n",
    "                    \n",
    "            # create product\n",
    "            elif choice == 2:\n",
    "                new_product_name = input(\"Enter the new product name: \")\n",
    "                create_product(new_product_name)\n",
    "                \n",
    "            # update product\n",
    "            elif choice == 3:\n",
    "                product_id = int(input(\"Enter the product ID to update: \"))\n",
    "                new_product_name = input(\"Enter the new product name: \")\n",
    "                update_product(product_id, new_product_name)\n",
    "                    \n",
    "            # delete product\n",
    "            elif choice == 4:\n",
    "                product_id = int(input(\"Enter the product ID to delete: \"))\n",
    "                delete_product(product_id)\n",
    "                    \n",
    "            # get product by ID\n",
    "            elif choice == 5:\n",
    "                product_id = int(input(\"Enter the product ID to get: \"))\n",
    "                view_product_by_id(product_id)\n",
    "                    \n",
    "            # exit the program\n",
    "            elif choice == 6:\n",
    "                print(\"Exiting...\")\n",
    "                break\n",
    "                \n",
    "            # handle invalid input\n",
    "            else:\n",
    "                print(\"Invalid choice! Please enter a number between 1 and 6.\")\n",
    "    else:\n",
    "        print(\"Login failed!\")"
   ]
  },
  {
   "cell_type": "code",
   "execution_count": null,
   "metadata": {},
   "outputs": [],
   "source": []
  }
 ],
 "metadata": {
  "kernelspec": {
   "display_name": "Python 3 (ipykernel)",
   "language": "python",
   "name": "python3"
  },
  "language_info": {
   "codemirror_mode": {
    "name": "ipython",
    "version": 3
   },
   "file_extension": ".py",
   "mimetype": "text/x-python",
   "name": "python",
   "nbconvert_exporter": "python",
   "pygments_lexer": "ipython3",
   "version": "3.9.12"
  }
 },
 "nbformat": 4,
 "nbformat_minor": 2
}
